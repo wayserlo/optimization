{
  "nbformat": 4,
  "nbformat_minor": 0,
  "metadata": {
    "colab": {
      "name": "22_HW_2.ipynb",
      "provenance": [],
      "collapsed_sections": []
    },
    "kernelspec": {
      "name": "python3",
      "display_name": "Python 3"
    },
    "language_info": {
      "name": "python"
    }
  },
  "cells": [
    {
      "cell_type": "markdown",
      "metadata": {
        "id": "GY2gy0gydxVi"
      },
      "source": [
        "Домашнее задание 2. \n",
        "\n",
        "The file should be sent in the `.pdf` format created via $\\LaTeX$ or [typora](<https://typora.io/>) or printed from pdf with the colab\\jupyter notebook. The only handwritten part, that could be included in the solution are the figures and illustrations.\n",
        "\n",
        "**Deadline: 08.05.22 21:59:59**"
      ]
    },
    {
      "cell_type": "markdown",
      "metadata": {
        "id": "JxPhpWe-gxqB"
      },
      "source": [
        "# 😱 Newton convergence issue\n",
        "Рассмотрите следующую функцию:\n",
        "\n",
        "$$\n",
        "f(x,y) = \\dfrac{x^4}{4} - x^2 + 2x + (y-1)^2\n",
        "$$\n",
        "\n",
        "И точку старта $x_0 = (0,2)^\\top$. Как ведет себя метод Ньютона, запущенный с этой точки? Чем это можно объяснить? \n",
        "\n",
        "Как ведет себя градиентный спуск с фиксированным шагом $\\alpha = 0.01$ и метод наискорейшего спуска в таких же условиях?\n",
        "(в этом задании не обязательно показывать численные симуляции)"
      ]
    },
    {
      "cell_type": "markdown",
      "metadata": {
        "id": "dZ90Mu7Jg8U6"
      },
      "source": [
        "**Ответ:**\n",
        "\n",
        "Вычислим градиент и гессиан \n",
        "$$ \\nabla^2 f(x, y) = \\begin{bmatrix}3x^2 - 2 & 0 \\\\ 0 & 2 \\end{bmatrix} ⇒ $$ \n",
        "\n",
        "$$\\left[\\nabla^2 f(x, y)\\right]^{-1} = \\dfrac{1}{2(3x^2-2)}\\begin{bmatrix}2 & 0 \\\\ 0 & 3x^2 - 2 \\end{bmatrix}$$\n",
        "$$ \\nabla f(x, y) = \\begin{pmatrix}x^3 - 2x+2 \\\\ 2(y-1)\n",
        "\\end{pmatrix}$$\n",
        "Тогда шаг выражается как:\n",
        "$$x_{k+1} = x_k- \\left[\\nabla^2 f(x, y)\\right]^{-1} \\nabla f(x, y)$$\n",
        "\n",
        "$$ \\begin{pmatrix} x_{k+1} \\\\ y_{k+1}\\end{pmatrix} =  \\begin{pmatrix} x_{k} \\\\ y_{k}\\end{pmatrix} - \\dfrac{1}{2(3x_k^2-2)}\\begin{bmatrix}2 & 0 \\\\ 0 & 3x_k^2 - 2 \\end{bmatrix}\\begin{pmatrix}x_k^3 - 2x_k+2 \\\\ 2(y_k-1)\n",
        "\\end{pmatrix} = $$\n",
        "\n",
        "$$ =\\dfrac{1}{2(3x_k^2-2)} \\begin{pmatrix} 4x_k^3-4\\\\2(3x_2^2-2) \\end{pmatrix} =\\begin{pmatrix} \\frac{ 2x_k^3-2}{3x_k^2-2}\\\\1 \\end{pmatrix} $$\n",
        "В силу того, что здесь в минимизируемой функции координаты $x$ и $y$ отделимы, то можно минимизировать отдельно по $x$ и по $y$. После первой итерации координата по $y$ всегда будет 1 (что соответствует минимуму по этой координате). Посмотрим на координату $x$:\n",
        "$$ x_0 = 0,\\, x_1 = 1,\\, x_2= 0, x_3 = 1, \\,\\ldots  $$\n",
        "Получили, что он будет прыгать между $0$ и $1$ и не сойдется к минимуму. У нас отсутствует локальная положительность гессиана (нужно было начальную точку гораздо ближе брать), поэтому мы не можем гарантировать сходимость.\n",
        "\n",
        "**Градиентный спуск:**\n",
        "Посмотрим на $k+1$ шаг:\n",
        "$$ \\begin{pmatrix}x_{k+1}\\\\ y_{k+1}\\end{pmatrix} =\\begin{pmatrix}x_{k}\\\\ y_{k}\\end{pmatrix} - \\alpha \\begin{pmatrix}x_k^3 - 2x_k+2 \\\\ 2(y_k-1)\n",
        "\\end{pmatrix}$$\n",
        "Мы знаем, что минимум по координате $y$ находится в $y^* = 1$. А шаг выражается как $$y_{k+1} = y_k(1-2\\alpha)+2\\alpha = y_{k-1}(1-2\\alpha)^2+2\\alpha(1-2\\alpha)+2\\alpha = \\ldots $$ $$= y_0(1-2\\alpha)^{k+1} + 2\\alpha\\sum\\limits_{i=0}^k (1-2\\alpha)^i \\xrightarrow{k\\rightarrow\\infty} 0 + 2\\alpha\\dfrac{1}{1-(1-2\\alpha)} = 1$$\n",
        "По $y$ сойдемся. По $x$: исследуем производную (по координате $x$ только):\n",
        "$$ \\varphi(x) = x^3-2x+2 → \\varphi'(x) = 3x^2 - 2 =0 → x = \\pm \\sqrt{\\dfrac{2}{3}}$$\n",
        "т.е. $\\varphi(x)$ убывает на $|x| < \\sqrt{\\dfrac{2}{3}}$. Тогда ее минимум\n",
        "$$\\varphi\\left(\\sqrt{\\dfrac{2}{3}}\\right) \\approx 0,9 >0 $$\n",
        "т.е. функция только один раз обнуляется, на промежутке $x < -\\sqrt{\\dfrac{2}{3}}$. И мы, стартуя из 0, т.к. производная положительная, будем уменьшаться и сходиться к минимуму, а если вдруг перескочим минимум, то слева производная отрицательна, т.е. тоже в сторону минимума будет следующий шаг. в силу того, что $\\alpha$ маленький, мы будем сходиться к минимуму.\n",
        "\n",
        "**Наискорейший спуск:**\n",
        "Никаких проблем с методом наискорейшего спуска нет, мы будем сходиться\n"
      ]
    },
    {
      "cell_type": "markdown",
      "metadata": {
        "id": "Sw9RgAzrhljU"
      },
      "source": [
        "# 🥸 Quasi Comparison\n",
        "Реализуйте на языке python:\n",
        "* метод Ньютона\n",
        "* метод SR-1\n",
        "\n",
        "для минимизации следующих функций:\n",
        "* Квадратичная форма $f(x) = \\dfrac{1}{2}x^\\top A x + b^\\top x, \\quad x \\in \\mathbb{R}^n, A \\in \\mathbb{S}_+^{n \\times n}$. Попробуйте n = 2, 50, 228\n",
        "* Функция Розенброка $f(x, y) = (1-x)^2 + 100(y-x^2)^2 .\\quad$\n",
        "\n",
        "Сравните 2 реализованных Вами метода И [метод](https://docs.scipy.org/doc/scipy/reference/optimize.minimize-bfgs.html) `BFGS` из библиотеки `scipy`, а так же его модификацию [L-BFGS](https://docs.scipy.org/doc/scipy/reference/optimize.minimize-lbfgsb.html) в решении задачи минимизации описанных выше функций. точку старта необходимо инициализировать одинаковую для всех методов в рамках одного запуска. Необходимо провести не менее 10 запусков для каждого метода на каждой функции до достижения того критерия остановки, который вы выберете (например, расстояние до точки оптимума - во всех задачах мы её знаем)\n",
        "\n",
        "В качестве результата нужно заполнить следующие таблички, заполнив в них усредненное по числу запусков количество итераций, необходимых для сходимости и времени работы:\n",
        "\n",
        "Критерий остановки `____10^{-8} and 10^{-5}____`\n",
        "\n",
        "Число запусков `___50____`\n",
        "\n",
        "P.S. если в силу каких то причин Вам не удалось сделать задание полностью, попробуйте сфокусироваться хотя бы на его части.\n",
        "\n",
        "| Квадратичная форма. n = 2 | Iterations | Time |\n",
        "|:-------------------------:|:----------:|:----:|\n",
        "|           Newton          |      1.02      |   0.0020317649841308594   |\n",
        "|            SR-1           |            |      |\n",
        "|            BFGS           |      11.28      |   0.004329853057861328   |\n",
        "|           L-BFGS          |       9.6     |   0.0025686216354370117   |\n",
        "\n",
        "| Квадратичная форма. n = 50 | Iterations | Time |\n",
        "|:-------------------------:|:----------:|:----:|\n",
        "|           Newton          |      1.02      |   0.0008548784255981445   |\n",
        "|            SR-1           |            |      |\n",
        "|            BFGS           |      128.66      |   0.18035038948059082   |\n",
        "|           L-BFGS          |     249.82       |  0.11153969287872315    |\n",
        "\n",
        "\n",
        "| Квадратичная форма. n = 228 | Iterations | Time |\n",
        "|:-------------------------:|:----------:|:----:|\n",
        "|           Newton          |      1.82      |   0.0084851598739624024   |\n",
        "|            SR-1           |            |      |\n",
        "|            BFGS           |      704.82      |   6.966750435829162   |\n",
        "|           L-BFGS          |     56.42       |   0.3241435956954956   |\n",
        "\n",
        "| Функция Розенброка | Iterations | Time |\n",
        "|:-------------------------:|:----------:|:----:|\n",
        "|           Newton          |      4.86      |   0.0038908052444458006   |\n",
        "|            SR-1           |            |      |\n",
        "|            BFGS           |     21.36       |   0.006837077140808105   |\n",
        "|           L-BFGS          |      19.32      |    0.0029642200469970703  |\n"
      ]
    },
    {
      "cell_type": "code",
      "source": [
        "import numpy as np\n",
        "from numpy import linalg as LA\n",
        "import time\n",
        "import random\n",
        "\n",
        "class Rosen: #реализация функции Розенбока и ее производных\n",
        "  def __init__(self, x):\n",
        "    self.x = x\n",
        "  def get_func(self):\n",
        "    return (1-self.x[0])**2 + 100*(self.x[1]-self.x[0]**2)**2\n",
        "  def get_grad(self):\n",
        "    return np.array([-2*(1-self.x[0]) - 400*self.x[0]*(self.x[1]-self.x[0]**2), 200*(self.x[1] - self.x[0]**2)])\n",
        "  def get_hes(self):\n",
        "    return np.array([[2 - 400*(self.x[1] - self.x[0]**2)+800*self.x[0]**2, -400*self.x[0]], [-400*self.x[0], 200]])\n",
        "\n",
        "class Quadratic: #реализация квадратичной функции и ее производных\n",
        "  def __init__(self, x, A, b):\n",
        "    self.x = x\n",
        "    self.A = A\n",
        "    self.b = b\n",
        "  def get_func(self):\n",
        "    return self.x.dot(self.A.dot(self.x))*0.5 + self.b.dot(self.x)\n",
        "  def get_grad(self):\n",
        "    return self.A.dot(self.x) + self.b\n",
        "  def get_hes(self):\n",
        "    return self.A\n",
        "\n",
        "def Newton(f, eps):\n",
        "  begin = time.time()\n",
        "  x = f.x.astype(float)\n",
        "  k=0\n",
        "  if type(f)==Rosen:\n",
        "    ans = np.array([1, 1])\n",
        "    while (np.sqrt((ans - x).dot(ans - x)) > eps) and (k<21):\n",
        "      x -= LA.inv(f.get_hes()).dot(f.get_grad())\n",
        "      f =  Rosen(x)\n",
        "      k += 1\n",
        "  else:\n",
        "    ans = -LA.inv(f.A).dot(f.b)\n",
        "    while (np.sqrt((ans - x).dot(ans - x)) > eps) and (k<21):\n",
        "      x -= LA.inv(f.get_hes()).dot(f.get_grad())\n",
        "      f =  Quadratic(x, f.A, f.b)\n",
        "      k += 1\n",
        "  return x, k, time.time() - begin\n",
        "\n",
        "#f =  Rosen(np.array([2,2]))\n",
        "# = Quadratic(np.array([1,1,40]), np.array([[1,0,0],[0,1,0], [0,0,1]]), np.array([0,0,2]))\n",
        "\n",
        "#x, k, time = Newton(f, 1e-8)\n",
        "#print(x, k, time)"
      ],
      "metadata": {
        "colab": {
          "base_uri": "https://localhost:8080/"
        },
        "id": "4aC7P292RERG",
        "outputId": "4c5a3d13-b6f7-4dfd-c099-10bd20885ebe"
      },
      "execution_count": null,
      "outputs": [
        {
          "output_type": "stream",
          "name": "stdout",
          "text": [
            "Rosenbrock iteration =  4.94\n",
            "Rosenbrock time =  0.00027280330657958985\n",
            "Quadratic n=2 iteration =  1.02\n",
            "Quadratic n=2 time =  0.0001089191436767578\n",
            "Quadratic n=50 iteration =  1.42\n",
            "Quadratic n=50 time =  0.0003072357177734375\n",
            "Quadratic n=228 iteration =  1.82\n",
            "Quadratic n=228 time =  0.00832338809967041\n"
          ]
        }
      ]
    },
    {
      "cell_type": "code",
      "source": [
        "import scipy\n",
        "from scipy.optimize import minimize\n",
        "def Rosenf(x):\n",
        "  return (1-x[0])**2 + 100*(x[1]-x[0]**2)**2\n",
        "\n",
        "def Quadraticf(x):\n",
        "  return x.dot(A.dot(x))*0.5 + b.dot(x)\n",
        "\n",
        "def average(n, I):\n",
        "  i = 0\n",
        "  Kn = Tn = Kb = Tb = Klb = Tlb = 0\n",
        "  if n ==-1:\n",
        "    fB = Rosenf\n",
        "    while i < I:\n",
        "      x0 = np.array([2*random.random() for i in range(2)])\n",
        "      f =  Rosen(x0)\n",
        "      x, k, t = Newton(f, 1e-8)\n",
        "      Kn += k\n",
        "      Tn += t\n",
        "      beginB = time.time()\n",
        "      B = scipy.optimize.minimize(fB, x0, method='BFGS')\n",
        "      endB = time.time()\n",
        "      Kb += B.nit\n",
        "      Tb += endB - beginB\n",
        "      beginLB = time.time()\n",
        "      LB = scipy.optimize.minimize(fB, x0, method='L-BFGS-B')\n",
        "      endLB = time.time()\n",
        "      Klb += LB.nit\n",
        "      Tlb += endLB - beginLB\n",
        "      i += 1\n",
        "  else:\n",
        "    while i < I+1:\n",
        "      x0 = np.array([random.random() for j in range(n)])\n",
        "      b = np.array([random.random() for j in range(n)])\n",
        "      A = np.random.random((n, n))\n",
        "      A = np.dot(A, A.T)\n",
        "      f = Quadratic(x0, A, b)\n",
        "      x, k, t = Newton(f, 1e-5)\n",
        "      Kn += k\n",
        "      Tn += t\n",
        "      def Quadraticf(x):\n",
        "          return x.dot(A.dot(x))*0.5 + b.dot(x)\n",
        "      fB =  Quadraticf\n",
        "      beginB = time.time()\n",
        "      B = scipy.optimize.minimize(fB, x0, method='BFGS')\n",
        "      endB = time.time()\n",
        "      Kb += B.nit\n",
        "      Tb += endB - beginB\n",
        "      beginLB = time.time()\n",
        "      LB = scipy.optimize.minimize(fB, x0, method='L-BFGS-B')\n",
        "      endLB = time.time()\n",
        "      Klb += LB.nit\n",
        "      Tlb += endLB - beginLB\n",
        "      i += 1\n",
        "  return Kn/I, Tn/I, Kb/I, Tb/I, Klb/I, Tlb/I\n",
        "iter, t, iterB, tB, iterLB, tLB = average(-1, 50)\n",
        "print(\"Rosenbrock iteration Newton = \", iter)\n",
        "print(\"Rosenbrock time Newton= \", t)\n",
        "print(\"Rosenbrock iteration BFGS = \", iterB)\n",
        "print(\"Rosenbrock time BFGS= \", tB)\n",
        "print(\"Rosenbrock iteration L-BFGS = \", iterLB)\n",
        "print(\"Rosenbrock time L-BFGS= \", tLB)\n",
        "\n",
        "iter, t, iterB, tB, iterLB, tLB = average(2, 50)\n",
        "print(\"Quadratic n=2 iteration = \", iter)\n",
        "print(\"Quadratic n=2 time = \", t)\n",
        "print(\"Quadratic n=2 iteration BFGS = \", iterB)\n",
        "print(\"Quadratic n=2 time BFGS= \", tB)\n",
        "print(\"Quadratic n=2 iteration L-BFGS = \", iterLB)\n",
        "print(\"Quadratic n=2 time L-BFGS= \", tLB)\n",
        "\n",
        "iter, t, iterB, tB, iterLB, tLB = average(50, 50)\n",
        "print(\"Quadratic n=50 iteration = \", iter)\n",
        "print(\"Quadratic n=50 time = \", t)\n",
        "print(\"Quadratic n=50 iteration BFGS = \", iterB)\n",
        "print(\"Quadratic n=50 time BFGS= \", tB)\n",
        "print(\"Quadratic n=50 iteration L-BFGS = \", iterLB)\n",
        "print(\"Quadratic n=50 time L-BFGS= \", tLB)\n",
        "\n",
        "iter, t, iterB, tB, iterLB, tLB = average(228, 50)\n",
        "print(\"Quadratic n=228 iteration = \", iter)\n",
        "print(\"Quadratic n=228 time = \", t)\n",
        "print(\"Quadratic n=228 iteration BFGS = \", iterB)\n",
        "print(\"Quadratic n=228 time BFGS= \", tB)\n",
        "print(\"Quadratic n=228 iteration L-BFGS = \", iterLB)\n",
        "print(\"Quadratic n=228 time L-BFGS= \", tLB)\n",
        "\n",
        "\n",
        "x = np.array([2*random.random() for i in range(2)])\n",
        "f = Rosenf\n"
      ],
      "metadata": {
        "colab": {
          "base_uri": "https://localhost:8080/"
        },
        "id": "yk9xTEoDMGxu",
        "outputId": "fc8dcade-f68b-47c0-81fb-282c1432c868"
      },
      "execution_count": null,
      "outputs": [
        {
          "output_type": "stream",
          "name": "stdout",
          "text": [
            "Rosenbrock iteration Newton =  4.86\n",
            "Rosenbrock time Newton=  0.0038908052444458006\n",
            "Rosenbrock iteration BFGS =  21.36\n",
            "Rosenbrock time BFGS=  0.006837077140808105\n",
            "Rosenbrock iteration L-BFGS =  19.32\n",
            "Rosenbrock time L-BFGS=  0.0029642200469970703\n",
            "Quadratic n=2 iteration =  1.02\n",
            "Quadratic n=2 time =  0.0020317649841308594\n",
            "Quadratic n=2 iteration BFGS =  11.28\n",
            "Quadratic n=2 time BFGS=  0.004329853057861328\n",
            "Quadratic n=2 iteration L-BFGS =  9.6\n",
            "Quadratic n=2 time L-BFGS=  0.0025686216354370117\n",
            "Quadratic n=50 iteration =  1.02\n",
            "Quadratic n=50 time =  0.0008548784255981445\n",
            "Quadratic n=50 iteration BFGS =  128.66\n",
            "Quadratic n=50 time BFGS=  0.18035038948059082\n",
            "Quadratic n=50 iteration L-BFGS =  249.82\n",
            "Quadratic n=50 time L-BFGS=  0.11153969287872315\n",
            "Quadratic n=228 iteration =  1.82\n",
            "Quadratic n=228 time =  0.008485159873962402\n",
            "Quadratic n=228 iteration BFGS =  704.82\n",
            "Quadratic n=228 time BFGS=  6.966750435829162\n",
            "Quadratic n=228 iteration L-BFGS =  56.42\n",
            "Quadratic n=228 time L-BFGS=  0.3241435956954956\n"
          ]
        }
      ]
    },
    {
      "cell_type": "markdown",
      "metadata": {
        "id": "NiCGN2NAiIAg"
      },
      "source": [
        "# 😺 Conjugate gradients with preconditioner"
      ]
    },
    {
      "cell_type": "markdown",
      "metadata": {
        "id": "ExP0MQXYiKxj"
      },
      "source": [
        "Метод \n",
        "\n",
        "$\\begin{align}\n",
        "& \\mathbf{r}_0 := \\mathbf{b} - \\mathbf{A x}_0 \\\\\n",
        "& \\hbox{if } \\mathbf{r}_{0} \\text{ is sufficiently small, then return } \\mathbf{x}_{0} \\text{ as the result}\\\\\n",
        "& \\mathbf{p}_0 := \\mathbf{r}_0 \\\\\n",
        "& k := 0 \\\\\n",
        "& \\text{repeat} \\\\\n",
        "& \\qquad \\alpha_k := \\frac{\\mathbf{r}_k^\\mathsf{T} \\mathbf{r}_k}{\\mathbf{p}_k^\\mathsf{T} \\mathbf{A p}_k}  \\\\\n",
        "& \\qquad \\mathbf{x}_{k+1} := \\mathbf{x}_k + \\alpha_k \\mathbf{p}_k \\\\\n",
        "& \\qquad \\mathbf{r}_{k+1} := \\mathbf{r}_k - \\alpha_k \\mathbf{A p}_k \\\\\n",
        "& \\qquad \\hbox{if } \\mathbf{r}_{k+1} \\text{ is sufficiently small, then exit loop} \\\\\n",
        "& \\qquad \\beta_k := \\frac{\\mathbf{r}_{k+1}^\\mathsf{T} \\mathbf{r}_{k+1}}{\\mathbf{r}_k^\\mathsf{T} \\mathbf{r}_k} \\\\\n",
        "& \\qquad \\mathbf{p}_{k+1} := \\mathbf{r}_{k+1} + \\beta_k \\mathbf{p}_k \\\\\n",
        "& \\qquad k := k + 1 \\\\\n",
        "& \\text{end repeat} \\\\\n",
        "& \\text{return } \\mathbf{x}_{k+1} \\text{ as the result}\n",
        "\\end{align}$\n",
        "\n",
        "В этом задании Вам предлагается рассмотреть как влияют предобуславливатели на время работы метода сопряженных градиентов.\n",
        "\n",
        "Рассмотрим задачу минимизации квадратичной функции:\n",
        "\n",
        "$$f(x) = \\frac{1}{2}x^\\top Ax -b^\\top x$$\n",
        "\n",
        "где $A\\in \\mathbb{S}^{n}_{++}$, $b \\in \\mathbb{R}^{n}$.\n",
        "\n",
        "Как мы знаем, эта задача выпукла и минимум находится из условия $\\nabla f(x^*) =Ax^*-b= 0$. То есть для решения задачи необходимо разрешить систему уравнений $Ax=b$. Можно просто применить метод сопряженных градиентов, но если матрица плохо обусловлена ($\\frac{\\lambda_{max}}{\\lambda_{min}}>>1$), метод работает  медленно (буквально, скорость сходимости CG прямо пропорциональна $\\sqrt{\\kappa(A)}$).\n",
        "\n",
        "### Preconditioning\n",
        "\n",
        "Один из способов борьбы с этим - [использование](https://stanford.edu/class/ee364b/lectures/conj_grad_slides.pdf) матриц-предобуславливателей разных видов и последующее решение другой задачи:\n",
        "\n",
        "$$M A x = Mb$$\n",
        "\n",
        "Здесь матрица **предобуславливателя** $M$ подбирается таким образом, чтобы итоговая матрица $\\tilde{A} = M A$ имела меньшее число обусловленности. Существует несколько довольно простых, но зачастую сильно улучшающих работу метода предоубславливателей:\n",
        "\n",
        "* $M = A^{-1}$ (Ideal preconditioner)\n",
        "* $M = $ diag($A_{11}^{-1},A_{22}^{-1}, \\ldots, A_{nn}^{-1}$) (Jacobi)\n",
        "* $M \\approx \\hat A$, где например $\\hat A$ - неполная [факторизация](http://www.math.iit.edu/~fass/477577_Chapter_16.pdf) Холецкого\n",
        "\n",
        "###  Preconditioned Conjugate Gradients\n",
        "Лучшая [ссылка](https://www.cs.cmu.edu/~quake-papers/painless-conjugate-gradient.pdf) - c.39.\n",
        "Нет никаких проблем в том, чтобы решать новую систему $\\tilde{A}x = \\tilde{b}$ методов сопряженных градиентов. Однако, нативное встраивание предобуславливателя в алгоритм, делает использование этой идеи еще более эффективной. Для этого надо детально модифицировать классический CG. Кроме того, мы потребуем положительности новой матрицы $\\tilde{A}$. Для этого будем использовать следующий вариант построения матрицы $M$:\n",
        "\n",
        "$$\n",
        "M^{-1} = LL^\\top\n",
        "$$\n",
        "\n",
        "$$\n",
        "\\begin{split}\n",
        "Ax = b &\\leftrightarrow M^{-1}Ax = M^{-1}b \\\\\n",
        "&\\leftrightarrow L^\\top Ax = L^\\top b \\\\\n",
        "&\\leftrightarrow \\underbrace{L^\\top A L}_{\\tilde{A}} \\cdot \\underbrace{L^{-1}x}_{\\tilde{x}} = \\underbrace{L^\\top b}_{\\tilde{b}}\n",
        "\\end{split}\n",
        "$$\n",
        "\n",
        "В новых переменных ($\\tilde{A}, \\tilde{x}, \\tilde{b}$) невязка запишется, как:\n",
        "\n",
        "$$\n",
        "\\tilde{r}_k = \\tilde{b} - \\tilde{A}\\tilde{x}_k = L^\\top b - (L^\\top A L)(L^{-1}x_k) = L^\\top b - L^\\top Ax_k = L^\\top r_k\n",
        "$$\n",
        "\n",
        "\n",
        "Факторизация Холецкого s.p.d. матрицы A - ее разложение на произведение нижнетреугольной и верхнетреугольной матрицы: $A = L^TL$ [wiki](https://en.wikipedia.org/wiki/Cholesky_decomposition).  Есть несколько упрощений этого алгоритма, позволяющих получить матрицу, \"похожую\" на A. Мы будем использовать следующую:  $if \\quad (a_{i,j} =0) \\rightarrow l_{i,j} = 0$, а далее по алгоритму.\n",
        "\n",
        "**Задание** Выбрать 1 задачу [отсюда](https://sparse.tamu.edu ) (выбирайте формат matrix market - его умеет читать [scipy](https://docs.scipy.org/doc/scipy/reference/generated/scipy.io.mmread.html) ), исследовать как влияет на скорость сходимости тот или иной предоубславливатель:\n",
        "\n",
        "1) Сравнить число итераций, за которое метод сходится с точностью $10^{-7}$ для двух предобуславливателей и для обычного метода сопряженных градиентов.\n",
        "\n",
        "2) Построить графики зависимости нормы невязки $\\|r_k\\| = \\|Ax_k - b\\|$ от номера итерации для трех предобуславливателей и для обычного метода сопряженных градиентов. Обратите внимание, что в этом задании можно использовать дефолтный метод сопряженных градиентов из [scipy](https://docs.scipy.org/doc/scipy/reference/generated/scipy.sparse.linalg.cg.html) - там есть возможность в качестве аргумента передать preconditioner.\n",
        "\n",
        "3) Сравнить итоговое время работы методов до сходимости. Обратите внимание, что для честного сравнения по времени не стоит использовать дополнительных сложных callback-ов.\n",
        "\n",
        "Пример:\n",
        "\n",
        "![](https://pp.userapi.com/c831309/v831309597/108727/JXO7HGHv8r4.jpg)"
      ]
    },
    {
      "cell_type": "code",
      "source": [
        "import scipy.io \n",
        "from scipy.io import mmread\n",
        "import io\n",
        "import inspect\n",
        "import matplotlib.pyplot as plt\n",
        "n=85\n",
        "b = np.ones(n)\n",
        "A = mmread('ash85.mtx')\n",
        "A = np.array(A.todense())\n",
        "Inv = LA.inv(A) #М для первого метода\n",
        "Jacobi = np.diag([(A[i][i])**(-1) for i in range(n)]) #М для второго метода\n",
        "#Cholesky = np.linalg.cholesky(A @ A.T) #просто исходная матрица А не положительно \n",
        "#определенная, а для этой реализации требуется положительная определенность\n",
        "\n",
        "def solve_sparse(A, b):\n",
        "  residual = []\n",
        "  num_iters = 0\n",
        "\n",
        "  def callback(xk):\n",
        "    nonlocal num_iters\n",
        "    num_iters+=1\n",
        "    #frame = inspect.currentframe().f_back\n",
        "    #residual.append(frame.f_locals['resid'])\n",
        "    residual.append(np.sqrt((xk-answ).T @ (xk-answ)))\n",
        "  \n",
        "  x, status = scipy.sparse.linalg.cg(A, b, tol=1e-5, M = None, callback = callback)\n",
        "  return x, num_iters, residual\n",
        "\n",
        "answ = scipy.sparse.linalg.cg(A, b, tol=1e-5)[0]\n",
        "x, N, residual = solve_sparse(A, b)\n",
        "print()\n",
        "fig = plt.figure(figsize=(9,6))\n",
        "plt.xlabel(\"iteration\")\n",
        "plt.ylabel(\"residual\")\n",
        "plt.plot(np.arange(N),residual)\n",
        "plt.show()"
      ],
      "metadata": {
        "colab": {
          "base_uri": "https://localhost:8080/",
          "height": 405
        },
        "id": "tpyRtbGXebTE",
        "outputId": "33d9de61-46d8-4129-8c38-b5fbca7b7653"
      },
      "execution_count": null,
      "outputs": [
        {
          "output_type": "stream",
          "name": "stdout",
          "text": [
            "\n"
          ]
        },
        {
          "output_type": "display_data",
          "data": {
            "text/plain": [
              "<Figure size 648x432 with 1 Axes>"
            ],
            "image/png": "[encoded data removed]"
          },
          "metadata": {
            "needs_background": "light"
          }
        }
      ]
    },
    {
      "cell_type": "markdown",
      "source": [
        "С $M = A^{-1}$ достаточно *одной* итерации. С $M = Jacobi$ требуется столько же операций, сколько и при обычном методе (потому что у меня не очень удачная матрица и там $M = Jacobi = I$ вышла единичная матрица в предобуславливателе. У меня это $117$ итераций. Поэтому я график построила только для просто cg (и он совпадает с Jacobi)\n",
        "\n"
      ],
      "metadata": {
        "id": "TLxINDPj67Oj"
      }
    },
    {
      "cell_type": "markdown",
      "metadata": {
        "id": "i4CAQjMRL1wF"
      },
      "source": [
        "# 🪅 Stochastic optimization tricks\n",
        "\n",
        "You will study stochastic optimization in the setting of timeseries anomaly detection using an autoencoder.\n",
        "[source](https://keras.io/examples/timeseries/timeseries_anomaly_detection/)"
      ]
    },
    {
      "cell_type": "markdown",
      "metadata": {
        "id": "hDr-LyB6L1wI"
      },
      "source": [
        "## Introduction\n",
        "\n",
        "This script demonstrates how you can use a reconstruction convolutional\n",
        "autoencoder model to detect anomalies in timeseries data."
      ]
    },
    {
      "cell_type": "markdown",
      "metadata": {
        "id": "vlv9x0nxL1wJ"
      },
      "source": [
        "## Setup"
      ]
    },
    {
      "cell_type": "code",
      "metadata": {
        "id": "F42DoPCbL1wJ"
      },
      "source": [
        "import numpy as np\n",
        "import pandas as pd\n",
        "from tensorflow import keras\n",
        "from tensorflow.keras import layers\n",
        "from matplotlib import pyplot as plt"
      ],
      "execution_count": null,
      "outputs": []
    },
    {
      "cell_type": "markdown",
      "metadata": {
        "id": "i1TzsEg-L1wK"
      },
      "source": [
        "## Load the data\n",
        "\n",
        "We will use the [Numenta Anomaly Benchmark(NAB)](\n",
        "https://www.kaggle.com/boltzmannbrain/nab) dataset. It provides artifical\n",
        "timeseries data containing labeled anomalous periods of behavior. Data are\n",
        "ordered, timestamped, single-valued metrics.\n",
        "\n",
        "We will use the `art_daily_small_noise.csv` file for training and the\n",
        "`art_daily_jumpsup.csv` file for testing. The simplicity of this dataset\n",
        "allows us to demonstrate anomaly detection effectively."
      ]
    },
    {
      "cell_type": "code",
      "metadata": {
        "id": "QP44TX4pL1wK"
      },
      "source": [
        "master_url_root = \"https://raw.githubusercontent.com/numenta/NAB/master/data/\"\n",
        "\n",
        "df_small_noise_url_suffix = \"artificialNoAnomaly/art_daily_small_noise.csv\"\n",
        "df_small_noise_url = master_url_root + df_small_noise_url_suffix\n",
        "df_small_noise = pd.read_csv(\n",
        "    df_small_noise_url, parse_dates=True, index_col=\"timestamp\"\n",
        ")\n",
        "\n",
        "df_daily_jumpsup_url_suffix = \"artificialWithAnomaly/art_daily_jumpsup.csv\"\n",
        "df_daily_jumpsup_url = master_url_root + df_daily_jumpsup_url_suffix\n",
        "df_daily_jumpsup = pd.read_csv(\n",
        "    df_daily_jumpsup_url, parse_dates=True, index_col=\"timestamp\"\n",
        ")"
      ],
      "execution_count": null,
      "outputs": []
    },
    {
      "cell_type": "markdown",
      "metadata": {
        "id": "MlneFHWZL1wL"
      },
      "source": [
        "## Quick look at the data"
      ]
    },
    {
      "cell_type": "code",
      "metadata": {
        "colab": {
          "base_uri": "https://localhost:8080/"
        },
        "id": "WidrmNpBL1wL",
        "outputId": "c070de20-ee2e-4da4-9221-7ff0d9162fe2"
      },
      "source": [
        "print(df_small_noise.head())\n",
        "\n",
        "print(df_daily_jumpsup.head())"
      ],
      "execution_count": null,
      "outputs": [
        {
          "output_type": "stream",
          "name": "stdout",
          "text": [
            "                         value\n",
            "timestamp                     \n",
            "2014-04-01 00:00:00  18.324919\n",
            "2014-04-01 00:05:00  21.970327\n",
            "2014-04-01 00:10:00  18.624806\n",
            "2014-04-01 00:15:00  21.953684\n",
            "2014-04-01 00:20:00  21.909120\n",
            "                         value\n",
            "timestamp                     \n",
            "2014-04-01 00:00:00  19.761252\n",
            "2014-04-01 00:05:00  20.500833\n",
            "2014-04-01 00:10:00  19.961641\n",
            "2014-04-01 00:15:00  21.490266\n",
            "2014-04-01 00:20:00  20.187739\n"
          ]
        }
      ]
    },
    {
      "cell_type": "markdown",
      "metadata": {
        "id": "59RYKyGLL1wM"
      },
      "source": [
        "## Visualize the data\n",
        "### Timeseries data without anomalies\n",
        "\n",
        "We will use the following data for training."
      ]
    },
    {
      "cell_type": "code",
      "metadata": {
        "colab": {
          "base_uri": "https://localhost:8080/",
          "height": 303
        },
        "id": "m_O8wEbnL1wM",
        "outputId": "446d4541-e1d8-46ab-eefe-3d533bd85b9f"
      },
      "source": [
        "fig, ax = plt.subplots()\n",
        "df_small_noise.plot(legend=False, ax=ax)\n",
        "plt.ylabel('Value')\n",
        "plt.show()"
      ],
      "execution_count": null,
      "outputs": [
        {
          "output_type": "display_data",
          "data": {
            "text/plain": [
              "<Figure size 432x288 with 1 Axes>"
            ],
            "image/png": "[encoded data removed]"
          },
          "metadata": {
            "needs_background": "light"
          }
        }
      ]
    },
    {
      "cell_type": "markdown",
      "metadata": {
        "id": "kIPHLxIML1wM"
      },
      "source": [
        "### Timeseries data with anomalies\n",
        "\n",
        "We will use the following data for testing and see if the sudden jump up in the\n",
        "data is detected as an anomaly."
      ]
    },
    {
      "cell_type": "code",
      "metadata": {
        "colab": {
          "base_uri": "https://localhost:8080/",
          "height": 303
        },
        "id": "Aw9nTYjBL1wN",
        "outputId": "db54e1e6-c36a-40b0-b5b9-932a47ca8b06"
      },
      "source": [
        "fig, ax = plt.subplots()\n",
        "df_daily_jumpsup.plot(legend=False, ax=ax)\n",
        "plt.ylabel('Value')\n",
        "plt.show()"
      ],
      "execution_count": null,
      "outputs": [
        {
          "output_type": "display_data",
          "data": {
            "text/plain": [
              "<Figure size 432x288 with 1 Axes>"
            ],
            "image/png": "[encoded data removed]"
          },
          "metadata": {
            "needs_background": "light"
          }
        }
      ]
    },
    {
      "cell_type": "markdown",
      "metadata": {
        "id": "iSZh_DOmL1wN"
      },
      "source": [
        "## Prepare training data\n",
        "\n",
        "Get data values from the training timeseries data file and normalize the\n",
        "`value` data. We have a `value` for every 5 mins for 14 days.\n",
        "\n",
        "-   24 * 60 / 5 = **288 timesteps per day**\n",
        "-   288 * 14 = **4032 data points** in total"
      ]
    },
    {
      "cell_type": "code",
      "metadata": {
        "colab": {
          "base_uri": "https://localhost:8080/"
        },
        "id": "S-EkKCNcL1wO",
        "outputId": "8dc3a286-a4d2-4513-b973-89a1a02b59cf"
      },
      "source": [
        "\n",
        "# Normalize and save the mean and std we get,\n",
        "# for normalizing test data.\n",
        "training_mean = df_small_noise.mean()\n",
        "training_std = df_small_noise.std()\n",
        "df_training_value = (df_small_noise - training_mean) / training_std\n",
        "print(\"Number of training samples:\", len(df_training_value))"
      ],
      "execution_count": null,
      "outputs": [
        {
          "output_type": "stream",
          "name": "stdout",
          "text": [
            "Number of training samples: 4032\n"
          ]
        }
      ]
    },
    {
      "cell_type": "markdown",
      "metadata": {
        "id": "NvIUKXNiL1wO"
      },
      "source": [
        "### Create sequences\n",
        "Create sequences combining `TIME_STEPS` contiguous data values from the\n",
        "training data."
      ]
    },
    {
      "cell_type": "code",
      "metadata": {
        "colab": {
          "base_uri": "https://localhost:8080/"
        },
        "id": "j3PMDSVQL1wO",
        "outputId": "438306bb-d41c-4a66-8694-d919e5e3c5a1"
      },
      "source": [
        "TIME_STEPS = 288\n",
        "\n",
        "# Generated training sequences for use in the model.\n",
        "def create_sequences(values, time_steps=TIME_STEPS):\n",
        "    output = []\n",
        "    for i in range(len(values) - time_steps + 1):\n",
        "        output.append(values[i : (i + time_steps)])\n",
        "    return np.stack(output)\n",
        "\n",
        "\n",
        "x_train = create_sequences(df_training_value.values)\n",
        "print(\"Training input shape: \", x_train.shape)"
      ],
      "execution_count": null,
      "outputs": [
        {
          "output_type": "stream",
          "name": "stdout",
          "text": [
            "Training input shape:  (3745, 288, 1)\n"
          ]
        }
      ]
    },
    {
      "cell_type": "markdown",
      "metadata": {
        "id": "xdP8DThPL1wP"
      },
      "source": [
        "## Build a model\n",
        "\n",
        "We will build a convolutional reconstruction autoencoder model. The model will\n",
        "take input of shape `(batch_size, sequence_length, num_features)` and return\n",
        "output of the same shape. In this case, `sequence_length` is 288 and\n",
        "`num_features` is 1."
      ]
    },
    {
      "cell_type": "code",
      "metadata": {
        "colab": {
          "base_uri": "https://localhost:8080/"
        },
        "id": "mlyNVYopL1wP",
        "outputId": "abd30747-7dfe-4ab1-c1e0-b66ba23258f9"
      },
      "source": [
        "model = keras.Sequential(\n",
        "    [\n",
        "        layers.Input(shape=(x_train.shape[1], x_train.shape[2])),\n",
        "        layers.Conv1D(\n",
        "            filters=32, kernel_size=7, padding=\"same\", strides=2, activation=\"relu\"\n",
        "        ),\n",
        "        layers.Dropout(rate=0.2),\n",
        "        layers.Conv1D(\n",
        "            filters=16, kernel_size=7, padding=\"same\", strides=2, activation=\"relu\"\n",
        "        ),\n",
        "        layers.Conv1DTranspose(\n",
        "            filters=16, kernel_size=7, padding=\"same\", strides=2, activation=\"relu\"\n",
        "        ),\n",
        "        layers.Dropout(rate=0.2),\n",
        "        layers.Conv1DTranspose(\n",
        "            filters=32, kernel_size=7, padding=\"same\", strides=2, activation=\"relu\"\n",
        "        ),\n",
        "        layers.Conv1DTranspose(filters=1, kernel_size=7, padding=\"same\"),\n",
        "    ]\n",
        ")\n",
        "model.compile(optimizer=keras.optimizers.Adam(learning_rate=0.01), loss=\"mse\")\n",
        "model.summary()"
      ],
      "execution_count": null,
      "outputs": [
        {
          "output_type": "stream",
          "name": "stdout",
          "text": [
            "Model: \"sequential\"\n",
            "_________________________________________________________________\n",
            " Layer (type)                Output Shape              Param #   \n",
            "=================================================================\n",
            " conv1d (Conv1D)             (None, 144, 32)           256       \n",
            "                                                                 \n",
            " dropout (Dropout)           (None, 144, 32)           0         \n",
            "                                                                 \n",
            " conv1d_1 (Conv1D)           (None, 72, 16)            3600      \n",
            "                                                                 \n",
            " conv1d_transpose (Conv1DTra  (None, 144, 16)          1808      \n",
            " nspose)                                                         \n",
            "                                                                 \n",
            " dropout_1 (Dropout)         (None, 144, 16)           0         \n",
            "                                                                 \n",
            " conv1d_transpose_1 (Conv1DT  (None, 288, 32)          3616      \n",
            " ranspose)                                                       \n",
            "                                                                 \n",
            " conv1d_transpose_2 (Conv1DT  (None, 288, 1)           225       \n",
            " ranspose)                                                       \n",
            "                                                                 \n",
            "=================================================================\n",
            "Total params: 9,505\n",
            "Trainable params: 9,505\n",
            "Non-trainable params: 0\n",
            "_________________________________________________________________\n"
          ]
        }
      ]
    },
    {
      "cell_type": "markdown",
      "metadata": {
        "id": "zgOs2ejQL1wP"
      },
      "source": [
        "## Train the model\n",
        "\n",
        "Please note that we are using `x_train` as both the input and the target\n",
        "since this is a reconstruction model."
      ]
    },
    {
      "cell_type": "code",
      "metadata": {
        "colab": {
          "base_uri": "https://localhost:8080/"
        },
        "id": "CtDmtd0eL1wP",
        "outputId": "398be4ee-a1c0-4c9e-b9f1-5bccbd868f02"
      },
      "source": [
        "history = model.fit(\n",
        "    x_train,\n",
        "    x_train,\n",
        "    epochs=50,\n",
        "    batch_size=128,\n",
        "    validation_split=0.1,\n",
        "    callbacks=[\n",
        "        keras.callbacks.EarlyStopping(monitor=\"val_loss\", patience=5, mode=\"min\")\n",
        "    ],\n",
        ")"
      ],
      "execution_count": null,
      "outputs": [
        {
          "output_type": "stream",
          "name": "stdout",
          "text": [
            "Epoch 1/50\n",
            "27/27 [==============================] - 3s 88ms/step - loss: 0.3538 - val_loss: 0.0978\n",
            "Epoch 2/50\n",
            "27/27 [==============================] - 2s 80ms/step - loss: 0.0641 - val_loss: 0.0470\n",
            "Epoch 3/50\n",
            "27/27 [==============================] - 2s 82ms/step - loss: 0.0447 - val_loss: 0.0354\n",
            "Epoch 4/50\n",
            "27/27 [==============================] - 2s 78ms/step - loss: 0.0367 - val_loss: 0.0302\n",
            "Epoch 5/50\n",
            "27/27 [==============================] - 2s 80ms/step - loss: 0.0310 - val_loss: 0.0258\n",
            "Epoch 6/50\n",
            "27/27 [==============================] - 2s 80ms/step - loss: 0.0267 - val_loss: 0.0228\n",
            "Epoch 7/50\n",
            "27/27 [==============================] - 2s 80ms/step - loss: 0.0239 - val_loss: 0.0193\n",
            "Epoch 8/50\n",
            "27/27 [==============================] - 2s 81ms/step - loss: 0.0216 - val_loss: 0.0177\n",
            "Epoch 9/50\n",
            "27/27 [==============================] - 2s 81ms/step - loss: 0.0202 - val_loss: 0.0166\n",
            "Epoch 10/50\n",
            "27/27 [==============================] - 2s 80ms/step - loss: 0.0191 - val_loss: 0.0161\n",
            "Epoch 11/50\n",
            "27/27 [==============================] - 2s 81ms/step - loss: 0.0183 - val_loss: 0.0150\n",
            "Epoch 12/50\n",
            "27/27 [==============================] - 2s 80ms/step - loss: 0.0175 - val_loss: 0.0147\n",
            "Epoch 13/50\n",
            "27/27 [==============================] - 2s 81ms/step - loss: 0.0169 - val_loss: 0.0137\n",
            "Epoch 14/50\n",
            "27/27 [==============================] - 2s 81ms/step - loss: 0.0163 - val_loss: 0.0133\n",
            "Epoch 15/50\n",
            "27/27 [==============================] - 2s 81ms/step - loss: 0.0156 - val_loss: 0.0125\n",
            "Epoch 16/50\n",
            "27/27 [==============================] - 2s 81ms/step - loss: 0.0151 - val_loss: 0.0123\n",
            "Epoch 17/50\n",
            "27/27 [==============================] - 2s 81ms/step - loss: 0.0146 - val_loss: 0.0117\n",
            "Epoch 18/50\n",
            "27/27 [==============================] - 2s 83ms/step - loss: 0.0141 - val_loss: 0.0115\n",
            "Epoch 19/50\n",
            "27/27 [==============================] - 2s 82ms/step - loss: 0.0137 - val_loss: 0.0112\n",
            "Epoch 20/50\n",
            "27/27 [==============================] - 2s 81ms/step - loss: 0.0134 - val_loss: 0.0111\n",
            "Epoch 21/50\n",
            "27/27 [==============================] - 2s 82ms/step - loss: 0.0130 - val_loss: 0.0106\n",
            "Epoch 22/50\n",
            "27/27 [==============================] - 2s 82ms/step - loss: 0.0127 - val_loss: 0.0103\n",
            "Epoch 23/50\n",
            "27/27 [==============================] - 2s 82ms/step - loss: 0.0124 - val_loss: 0.0103\n",
            "Epoch 24/50\n",
            "27/27 [==============================] - 2s 82ms/step - loss: 0.0121 - val_loss: 0.0099\n",
            "Epoch 25/50\n",
            "27/27 [==============================] - 2s 82ms/step - loss: 0.0118 - val_loss: 0.0095\n",
            "Epoch 26/50\n",
            "27/27 [==============================] - 2s 81ms/step - loss: 0.0115 - val_loss: 0.0096\n",
            "Epoch 27/50\n",
            "27/27 [==============================] - 2s 83ms/step - loss: 0.0112 - val_loss: 0.0094\n",
            "Epoch 28/50\n",
            "27/27 [==============================] - 2s 82ms/step - loss: 0.0110 - val_loss: 0.0092\n",
            "Epoch 29/50\n",
            "27/27 [==============================] - 2s 83ms/step - loss: 0.0108 - val_loss: 0.0090\n",
            "Epoch 30/50\n",
            "27/27 [==============================] - 2s 83ms/step - loss: 0.0105 - val_loss: 0.0090\n",
            "Epoch 31/50\n",
            "27/27 [==============================] - 2s 82ms/step - loss: 0.0104 - val_loss: 0.0085\n",
            "Epoch 32/50\n",
            "27/27 [==============================] - 2s 83ms/step - loss: 0.0102 - val_loss: 0.0086\n",
            "Epoch 33/50\n",
            "27/27 [==============================] - 2s 83ms/step - loss: 0.0100 - val_loss: 0.0087\n",
            "Epoch 34/50\n",
            "27/27 [==============================] - 2s 82ms/step - loss: 0.0098 - val_loss: 0.0087\n",
            "Epoch 35/50\n",
            "27/27 [==============================] - 2s 82ms/step - loss: 0.0096 - val_loss: 0.0081\n",
            "Epoch 36/50\n",
            "27/27 [==============================] - 2s 83ms/step - loss: 0.0097 - val_loss: 0.0084\n",
            "Epoch 37/50\n",
            "27/27 [==============================] - 2s 82ms/step - loss: 0.0094 - val_loss: 0.0082\n",
            "Epoch 38/50\n",
            "27/27 [==============================] - 2s 82ms/step - loss: 0.0092 - val_loss: 0.0081\n",
            "Epoch 39/50\n",
            "27/27 [==============================] - 2s 82ms/step - loss: 0.0091 - val_loss: 0.0084\n",
            "Epoch 40/50\n",
            "27/27 [==============================] - 2s 82ms/step - loss: 0.0090 - val_loss: 0.0088\n",
            "Epoch 41/50\n",
            "27/27 [==============================] - 2s 84ms/step - loss: 0.0088 - val_loss: 0.0076\n",
            "Epoch 42/50\n",
            "27/27 [==============================] - 2s 82ms/step - loss: 0.0087 - val_loss: 0.0078\n",
            "Epoch 43/50\n",
            "27/27 [==============================] - 2s 82ms/step - loss: 0.0086 - val_loss: 0.0080\n",
            "Epoch 44/50\n",
            "27/27 [==============================] - 2s 82ms/step - loss: 0.0085 - val_loss: 0.0079\n",
            "Epoch 45/50\n",
            "27/27 [==============================] - 2s 82ms/step - loss: 0.0084 - val_loss: 0.0089\n",
            "Epoch 46/50\n",
            "27/27 [==============================] - 2s 82ms/step - loss: 0.0084 - val_loss: 0.0088\n"
          ]
        }
      ]
    },
    {
      "cell_type": "markdown",
      "metadata": {
        "id": "py65uiVYL1wQ"
      },
      "source": [
        "Let's plot training and validation loss to see how the training went."
      ]
    },
    {
      "cell_type": "code",
      "metadata": {
        "colab": {
          "base_uri": "https://localhost:8080/",
          "height": 279
        },
        "id": "EIiqyXB9L1wQ",
        "outputId": "2942e35e-4fd4-4264-a44b-dc385e543a75"
      },
      "source": [
        "plt.semilogy(history.history[\"loss\"], label=\"Training Loss\")\n",
        "plt.semilogy(history.history[\"val_loss\"], label=\"Validation Loss\")\n",
        "plt.ylabel('Loss value')\n",
        "plt.xlabel('epoch')\n",
        "plt.legend()\n",
        "plt.show()"
      ],
      "execution_count": null,
      "outputs": [
        {
          "output_type": "display_data",
          "data": {
            "text/plain": [
              "<Figure size 432x288 with 1 Axes>"
            ],
            "image/png": "[encoded data removed]"
          },
          "metadata": {
            "needs_background": "light"
          }
        }
      ]
    },
    {
      "cell_type": "markdown",
      "metadata": {
        "id": "osRQKC8LL1wR"
      },
      "source": [
        "## Detecting anomalies\n",
        "\n",
        "We will detect anomalies by determining how well our model can reconstruct\n",
        "the input data.\n",
        "\n",
        "\n",
        "1.   Find MAE loss on training samples.\n",
        "2.   Find max MAE loss value. This is the worst our model has performed trying\n",
        "to reconstruct a sample. We will make this the `threshold` for anomaly\n",
        "detection.\n",
        "3.   If the reconstruction loss for a sample is greater than this `threshold`\n",
        "value then we can infer that the model is seeing a pattern that it isn't\n",
        "familiar with. We will label this sample as an `anomaly`.\n"
      ]
    },
    {
      "cell_type": "code",
      "metadata": {
        "colab": {
          "base_uri": "https://localhost:8080/",
          "height": 296
        },
        "id": "s2gsNKxmL1wR",
        "outputId": "d251c13c-6a19-47bd-db3b-5158cc8950f2"
      },
      "source": [
        "# Get train MAE loss.\n",
        "x_train_pred = model.predict(x_train)\n",
        "train_mae_loss = np.mean(np.abs(x_train_pred - x_train), axis=1)\n",
        "\n",
        "plt.hist(train_mae_loss, bins=50)\n",
        "plt.xlabel(\"Train MAE loss\")\n",
        "plt.ylabel(\"No of samples\")\n",
        "plt.show()\n",
        "\n",
        "# Get reconstruction loss threshold.\n",
        "threshold = np.max(train_mae_loss)\n",
        "print(\"Reconstruction error threshold: \", threshold)"
      ],
      "execution_count": null,
      "outputs": [
        {
          "output_type": "display_data",
          "data": {
            "text/plain": [
              "<Figure size 432x288 with 1 Axes>"
            ],
            "image/png": "[encoded data removed]"
          },
          "metadata": {
            "needs_background": "light"
          }
        },
        {
          "output_type": "stream",
          "name": "stdout",
          "text": [
            "Reconstruction error threshold:  0.07715260187695949\n"
          ]
        }
      ]
    },
    {
      "cell_type": "markdown",
      "metadata": {
        "id": "0gEVTeB0L1wR"
      },
      "source": [
        "### Compare recontruction\n",
        "\n",
        "Just for fun, let's see how our model has recontructed the first sample.\n",
        "This is the 288 timesteps from day 1 of our training dataset."
      ]
    },
    {
      "cell_type": "code",
      "metadata": {
        "colab": {
          "base_uri": "https://localhost:8080/",
          "height": 265
        },
        "id": "SgnlzhQRL1wS",
        "outputId": "0162b311-bef3-436e-ea32-f5f65847d3ba"
      },
      "source": [
        "# Checking how the first sequence is learnt\n",
        "plt.plot(x_train[0])\n",
        "plt.plot(x_train_pred[0])\n",
        "plt.show()"
      ],
      "execution_count": null,
      "outputs": [
        {
          "output_type": "display_data",
          "data": {
            "text/plain": [
              "<Figure size 432x288 with 1 Axes>"
            ],
            "image/png": "[encoded data removed]"
          },
          "metadata": {
            "needs_background": "light"
          }
        }
      ]
    },
    {
      "cell_type": "markdown",
      "metadata": {
        "id": "rW--QZRdL1wS"
      },
      "source": [
        "### Prepare test data"
      ]
    },
    {
      "cell_type": "code",
      "metadata": {
        "colab": {
          "base_uri": "https://localhost:8080/",
          "height": 1000
        },
        "id": "Kl7b9VqzL1wS",
        "outputId": "85ab4834-13d1-4414-ab76-fba77a3b1f84"
      },
      "source": [
        "\n",
        "df_test_value = (df_daily_jumpsup - training_mean) / training_std\n",
        "fig, ax = plt.subplots()\n",
        "df_test_value.plot(legend=False, ax=ax)\n",
        "plt.show()\n",
        "\n",
        "# Create sequences from test values.\n",
        "x_test = create_sequences(df_test_value.values)\n",
        "print(\"Test input shape: \", x_test.shape)\n",
        "\n",
        "# Get test MAE loss.\n",
        "x_test_pred = model.predict(x_test)\n",
        "test_mae_loss = np.mean(np.abs(x_test_pred - x_test), axis=1)\n",
        "test_mae_loss = test_mae_loss.reshape((-1))\n",
        "\n",
        "plt.hist(test_mae_loss, bins=50)\n",
        "plt.xlabel(\"test MAE loss\")\n",
        "plt.ylabel(\"No of samples\")\n",
        "plt.show()\n",
        "\n",
        "# Detect all the samples which are anomalies.\n",
        "anomalies = test_mae_loss > threshold\n",
        "print(\"Number of anomaly samples: \", np.sum(anomalies))\n",
        "print(\"Indices of anomaly samples: \", np.where(anomalies))"
      ],
      "execution_count": null,
      "outputs": [
        {
          "output_type": "display_data",
          "data": {
            "text/plain": [
              "<Figure size 432x288 with 1 Axes>"
            ],
            "image/png": "[encoded data removed]"
          },
          "metadata": {
            "needs_background": "light"
          }
        },
        {
          "output_type": "stream",
          "name": "stdout",
          "text": [
            "Test input shape:  (3745, 288, 1)\n"
          ]
        },
        {
          "output_type": "display_data",
          "data": {
            "text/plain": [
              "<Figure size 432x288 with 1 Axes>"
            ],
            "image/png": "[encoded data removed]"
          },
          "metadata": {
            "needs_background": "light"
          }
        },
        {
          "output_type": "stream",
          "name": "stdout",
          "text": [
            "Number of anomaly samples:  400\n",
            "Indices of anomaly samples:  (array([ 397, 2523, 2699, 2701, 2702, 2703, 2704, 2705, 2706, 2707, 2708,\n",
            "       2709, 2710, 2711, 2712, 2713, 2714, 2715, 2716, 2717, 2718, 2719,\n",
            "       2720, 2721, 2722, 2723, 2724, 2725, 2726, 2727, 2728, 2729, 2730,\n",
            "       2731, 2732, 2733, 2734, 2735, 2736, 2737, 2738, 2739, 2740, 2741,\n",
            "       2742, 2743, 2744, 2745, 2746, 2747, 2748, 2749, 2750, 2751, 2752,\n",
            "       2753, 2754, 2755, 2756, 2757, 2758, 2759, 2760, 2761, 2762, 2763,\n",
            "       2764, 2765, 2766, 2767, 2768, 2769, 2770, 2771, 2772, 2773, 2774,\n",
            "       2775, 2776, 2777, 2778, 2779, 2780, 2781, 2782, 2783, 2784, 2785,\n",
            "       2786, 2787, 2788, 2789, 2790, 2791, 2792, 2793, 2794, 2795, 2796,\n",
            "       2797, 2798, 2799, 2800, 2801, 2802, 2803, 2804, 2805, 2806, 2807,\n",
            "       2808, 2809, 2810, 2811, 2812, 2813, 2814, 2815, 2816, 2817, 2818,\n",
            "       2819, 2820, 2821, 2822, 2823, 2824, 2825, 2826, 2827, 2828, 2829,\n",
            "       2830, 2831, 2832, 2833, 2834, 2835, 2836, 2837, 2838, 2839, 2840,\n",
            "       2841, 2842, 2843, 2844, 2845, 2846, 2847, 2848, 2849, 2850, 2851,\n",
            "       2852, 2853, 2854, 2855, 2856, 2857, 2858, 2859, 2860, 2861, 2862,\n",
            "       2863, 2864, 2865, 2866, 2867, 2868, 2869, 2870, 2871, 2872, 2873,\n",
            "       2874, 2875, 2876, 2877, 2878, 2879, 2880, 2881, 2882, 2883, 2884,\n",
            "       2885, 2886, 2887, 2888, 2889, 2890, 2891, 2892, 2893, 2894, 2895,\n",
            "       2896, 2897, 2898, 2899, 2900, 2901, 2902, 2903, 2904, 2905, 2906,\n",
            "       2907, 2908, 2909, 2910, 2911, 2912, 2913, 2914, 2915, 2916, 2917,\n",
            "       2918, 2919, 2920, 2921, 2922, 2923, 2924, 2925, 2926, 2927, 2928,\n",
            "       2929, 2930, 2931, 2932, 2933, 2934, 2935, 2936, 2937, 2938, 2939,\n",
            "       2940, 2941, 2942, 2943, 2944, 2945, 2946, 2947, 2948, 2949, 2950,\n",
            "       2951, 2952, 2953, 2954, 2955, 2956, 2957, 2958, 2959, 2960, 2961,\n",
            "       2962, 2963, 2964, 2965, 2966, 2967, 2968, 2969, 2970, 2971, 2972,\n",
            "       2973, 2974, 2975, 2976, 2977, 2978, 2979, 2980, 2981, 2982, 2983,\n",
            "       2984, 2985, 2986, 2987, 2988, 2989, 2990, 2991, 2992, 2993, 2994,\n",
            "       2995, 2996, 2997, 2998, 2999, 3000, 3001, 3002, 3003, 3004, 3005,\n",
            "       3006, 3007, 3008, 3009, 3010, 3011, 3012, 3013, 3014, 3015, 3016,\n",
            "       3017, 3018, 3019, 3020, 3021, 3022, 3023, 3024, 3025, 3026, 3027,\n",
            "       3028, 3029, 3030, 3031, 3032, 3033, 3034, 3035, 3036, 3037, 3038,\n",
            "       3039, 3040, 3041, 3042, 3043, 3044, 3045, 3046, 3047, 3048, 3049,\n",
            "       3050, 3051, 3052, 3053, 3054, 3055, 3056, 3057, 3058, 3059, 3060,\n",
            "       3061, 3062, 3063, 3064, 3065, 3066, 3067, 3068, 3069, 3070, 3071,\n",
            "       3072, 3073, 3074, 3075, 3076, 3077, 3078, 3079, 3080, 3081, 3082,\n",
            "       3083, 3084, 3085, 3086, 3087, 3088, 3089, 3090, 3091, 3092, 3093,\n",
            "       3094, 3095, 3097, 3099]),)\n"
          ]
        }
      ]
    },
    {
      "cell_type": "markdown",
      "metadata": {
        "id": "obVkeAAaL1wS"
      },
      "source": [
        "## Plot anomalies\n",
        "\n",
        "We now know the samples of the data which are anomalies. With this, we will\n",
        "find the corresponding `timestamps` from the original test data. We will be\n",
        "using the following method to do that:\n",
        "\n",
        "Let's say time_steps = 3 and we have 10 training values. Our `x_train` will\n",
        "look like this:\n",
        "\n",
        "- 0, 1, 2\n",
        "- 1, 2, 3\n",
        "- 2, 3, 4\n",
        "- 3, 4, 5\n",
        "- 4, 5, 6\n",
        "- 5, 6, 7\n",
        "- 6, 7, 8\n",
        "- 7, 8, 9\n",
        "\n",
        "All except the initial and the final time_steps-1 data values, will appear in\n",
        "`time_steps` number of samples. So, if we know that the samples\n",
        "[(3, 4, 5), (4, 5, 6), (5, 6, 7)] are anomalies, we can say that the data point\n",
        "5 is an anomaly."
      ]
    },
    {
      "cell_type": "code",
      "metadata": {
        "id": "5f_mxWgNL1wT"
      },
      "source": [
        "# data i is an anomaly if samples [(i - timesteps + 1) to (i)] are anomalies\n",
        "anomalous_data_indices = []\n",
        "for data_idx in range(TIME_STEPS - 1, len(df_test_value) - TIME_STEPS + 1):\n",
        "    if np.all(anomalies[data_idx - TIME_STEPS + 1 : data_idx]):\n",
        "        anomalous_data_indices.append(data_idx)"
      ],
      "execution_count": null,
      "outputs": []
    },
    {
      "cell_type": "markdown",
      "metadata": {
        "id": "m7f7YtsdL1wT"
      },
      "source": [
        "Let's overlay the anomalies on the original test data plot."
      ]
    },
    {
      "cell_type": "code",
      "metadata": {
        "colab": {
          "base_uri": "https://localhost:8080/",
          "height": 303
        },
        "id": "_Sa0lJjqL1wT",
        "outputId": "c84741a0-208e-43bb-b7f0-5a8fd96a12be"
      },
      "source": [
        "df_subset = df_daily_jumpsup.iloc[anomalous_data_indices]\n",
        "fig, ax = plt.subplots()\n",
        "df_daily_jumpsup.plot(legend=False, ax=ax)\n",
        "df_subset.plot(legend=False, ax=ax, color=\"r\")\n",
        "plt.show()"
      ],
      "execution_count": null,
      "outputs": [
        {
          "output_type": "display_data",
          "data": {
            "image/png": "[encoded data removed]",
            "text/plain": [
              "<Figure size 432x288 with 1 Axes>"
            ]
          },
          "metadata": {
            "tags": [],
            "needs_background": "light"
          }
        }
      ]
    },
    {
      "cell_type": "markdown",
      "metadata": {
        "id": "FUJnwx-USvrQ"
      },
      "source": [
        "## Exercises:\n",
        "In this problem you are to compare different ideas of stochastic optimization. Ensure, that the algorithms are compared in the same setting: same initialization (fix the [seed](https://keras.io/api/layers/initializers/)!) and same amount of epochs. "
      ]
    },
    {
      "cell_type": "markdown",
      "metadata": {
        "id": "tY_AuH8vQCs5"
      },
      "source": [
        "### Learning rate schedule\n",
        "* Train model using SGD optimizer with default hyperparameters. \n",
        "* Train model using SGD optimizer with learning rate decay. Instructions can be found via [this](https://keras.io/api/optimizers/learning_rate_schedules/) link. \n",
        "* Compare the results.\n",
        "\n",
        "  Optional: Log results with wandb"
      ]
    },
    {
      "cell_type": "markdown",
      "metadata": {
        "id": "8lRP6yFF7UZm"
      },
      "source": [
        "<font color=\"lime\"> ==YOUR ANSWER== </font>"
      ]
    },
    {
      "cell_type": "code",
      "metadata": {
        "id": "T35fwijCM9r0"
      },
      "source": [
        "import tensorflow as tf\n",
        "opt = tf.keras.optimizers.SGD()"
      ],
      "execution_count": null,
      "outputs": []
    },
    {
      "cell_type": "markdown",
      "metadata": {
        "id": "OOLG-wkwS0Zq"
      },
      "source": [
        "### Acceleration\n",
        "* Train model using SGD optimizer with default hyperparameters. \n",
        "* Train model using SGD optimizer with momentum term. \n",
        "* Train model using SGD optimizer with nesterov momentum term. Instructions can be found via [this](https://keras.io/api/optimizers/sgd/) link.  \n",
        "* Compare the results.\n",
        "\n",
        "  Optional: Log results with wandb"
      ]
    },
    {
      "cell_type": "markdown",
      "metadata": {
        "id": "kTL-YjMr7VLI"
      },
      "source": [
        "<font color=\"lime\"> ==YOUR ANSWER== </font>"
      ]
    },
    {
      "cell_type": "code",
      "metadata": {
        "id": "gqI01CZRS5pK"
      },
      "source": [
        ""
      ],
      "execution_count": null,
      "outputs": []
    },
    {
      "cell_type": "markdown",
      "metadata": {
        "id": "hBA9Go-KS77I"
      },
      "source": [
        "### Adaptive methods\n",
        "* Train model using SGD optimizer with default hyperparameters. \n",
        "* Train model using any adaptive method. Instructions can be found via [this](https://keras.io/api/optimizers/) link.  \n",
        "* Compare the results.\n",
        "* Try to perform different runs of SGD + Momentum and select the best hyperparameters. Do the same for the Adam in the similar setting. Compare the results.\n",
        "\n",
        "  Optional: Log results with wandb"
      ]
    },
    {
      "cell_type": "markdown",
      "metadata": {
        "id": "KFtIEanA7Vm5"
      },
      "source": [
        "<font color=\"lime\"> ==YOUR ANSWER== </font>"
      ]
    },
    {
      "cell_type": "code",
      "metadata": {
        "id": "Ks3AaUqxTQty"
      },
      "source": [
        ""
      ],
      "execution_count": null,
      "outputs": []
    },
    {
      "cell_type": "markdown",
      "metadata": {
        "id": "YIme_FcBX_Nz"
      },
      "source": [
        "[Link](https://colab.research.google.com/github/wandb/examples/blob/master/colabs/keras/Simple_Keras_Integration.ipynb) to the keras + wandb."
      ]
    },
    {
      "cell_type": "code",
      "metadata": {
        "id": "HrN5PgyzYDeG"
      },
      "source": [
        "%%capture\n",
        "!pip install wandb"
      ],
      "execution_count": null,
      "outputs": []
    },
    {
      "cell_type": "code",
      "metadata": {
        "colab": {
          "base_uri": "https://localhost:8080/"
        },
        "id": "qWQriTbvYI9t",
        "outputId": "dda8e13f-d772-4989-8a78-57283aeb1902"
      },
      "source": [
        "import wandb\n",
        "from wandb.keras import WandbCallback\n",
        "\n",
        "!wandb login"
      ],
      "execution_count": null,
      "outputs": [
        {
          "output_type": "stream",
          "text": [
            "\u001b[34m\u001b[1mwandb\u001b[0m: You can find your API key in your browser here: https://wandb.ai/authorize\n",
            "\u001b[34m\u001b[1mwandb\u001b[0m: Paste an API key from your profile and hit enter: \n",
            "\u001b[34m\u001b[1mwandb\u001b[0m: Appending key for api.wandb.ai to your netrc file: /root/.netrc\n"
          ],
          "name": "stdout"
        }
      ]
    },
    {
      "cell_type": "code",
      "metadata": {
        "colab": {
          "base_uri": "https://localhost:8080/",
          "height": 302,
          "referenced_widgets": [
            "831ee17934e741d6b1b4c643282cee08",
            "441ff943820c4ce584f27be437507c68",
            "42ee349f48f74aa5a0ea9698d373e1bc",
            "1172a57806e648399d4b842a683a72d2",
            "3f83df4611524db98b3166d5e6be0934",
            "4cc82747f4754f319d8d9861a0c99b61",
            "c7d4cd0e5b704c5086826eca25ba2bda",
            "2ebd3e9724c848b685d873a3ed437c57"
          ]
        },
        "id": "qqUqJbbDYMcF",
        "outputId": "fc591948-87eb-4fc7-e14e-af7c2f88c04f"
      },
      "source": [
        "# Initialize wandb with your project name\n",
        "run = wandb.init(project='my-keras-integration',\n",
        "                 config={  # and include hyperparameters and metadata\n",
        "                     \"learning_rate\": 0.01,\n",
        "                     \"epochs\": 50,\n",
        "                     \"batch_size\": 128,\n",
        "                     \"loss_function\": \"mse\",\n",
        "                     \"architecture\": \"Autoencoder\",\n",
        "                     \"dataset\": \"Daily anomaly\"\n",
        "                 })\n",
        "config = wandb.config  # We'll use this to configure our experiment"
      ],
      "execution_count": null,
      "outputs": [
        {
          "output_type": "display_data",
          "data": {
            "text/html": [
              "Finishing last run (ID:33umpjae) before initializing another..."
            ],
            "text/plain": [
              "<IPython.core.display.HTML object>"
            ]
          },
          "metadata": {
            "tags": []
          }
        },
        {
          "output_type": "display_data",
          "data": {
            "text/html": [
              "<br/>Waiting for W&B process to finish, PID 930<br/>Program ended successfully."
            ],
            "text/plain": [
              "<IPython.core.display.HTML object>"
            ]
          },
          "metadata": {
            "tags": []
          }
        },
        {
          "output_type": "display_data",
          "data": {
            "application/vnd.jupyter.widget-view+json": {
              "model_id": "831ee17934e741d6b1b4c643282cee08",
              "version_minor": 0,
              "version_major": 2
            },
            "text/plain": [
              "VBox(children=(Label(value=' 0.00MB of 0.00MB uploaded (0.00MB deduped)\\r'), FloatProgress(value=1.0, max=1.0)…"
            ]
          },
          "metadata": {
            "tags": []
          }
        },
        {
          "output_type": "display_data",
          "data": {
            "text/html": [
              "Find user logs for this run at: <code>/content/wandb/run-20210616_151424-33umpjae/logs/debug.log</code>"
            ],
            "text/plain": [
              "<IPython.core.display.HTML object>"
            ]
          },
          "metadata": {
            "tags": []
          }
        },
        {
          "output_type": "display_data",
          "data": {
            "text/html": [
              "Find internal logs for this run at: <code>/content/wandb/run-20210616_151424-33umpjae/logs/debug-internal.log</code>"
            ],
            "text/plain": [
              "<IPython.core.display.HTML object>"
            ]
          },
          "metadata": {
            "tags": []
          }
        },
        {
          "output_type": "display_data",
          "data": {
            "text/html": [
              "Synced 4 W&B file(s), 0 media file(s), 0 artifact file(s) and 0 other file(s)"
            ],
            "text/plain": [
              "<IPython.core.display.HTML object>"
            ]
          },
          "metadata": {
            "tags": []
          }
        },
        {
          "output_type": "display_data",
          "data": {
            "text/html": [
              "\n",
              "                    <br/>Synced <strong style=\"color:#cdcd00\">avid-flower-1</strong>: <a href=\"https://wandb.ai/skoltech_optimization/my-keras-integration/runs/33umpjae\" target=\"_blank\">https://wandb.ai/skoltech_optimization/my-keras-integration/runs/33umpjae</a><br/>\n",
              "                "
            ],
            "text/plain": [
              "<IPython.core.display.HTML object>"
            ]
          },
          "metadata": {
            "tags": []
          }
        },
        {
          "output_type": "display_data",
          "data": {
            "text/html": [
              "...Successfully finished last run (ID:33umpjae). Initializing new run:<br/><br/>"
            ],
            "text/plain": [
              "<IPython.core.display.HTML object>"
            ]
          },
          "metadata": {
            "tags": []
          }
        },
        {
          "output_type": "display_data",
          "data": {
            "text/html": [
              "\n",
              "                Tracking run with wandb version 0.10.32<br/>\n",
              "                Syncing run <strong style=\"color:#cdcd00\">autumn-pyramid-2</strong> to <a href=\"https://wandb.ai\" target=\"_blank\">Weights & Biases</a> <a href=\"https://docs.wandb.com/integrations/jupyter.html\" target=\"_blank\">(Documentation)</a>.<br/>\n",
              "                Project page: <a href=\"https://wandb.ai/skoltech_optimization/my-keras-integration\" target=\"_blank\">https://wandb.ai/skoltech_optimization/my-keras-integration</a><br/>\n",
              "                Run page: <a href=\"https://wandb.ai/skoltech_optimization/my-keras-integration/runs/2gfgrmjp\" target=\"_blank\">https://wandb.ai/skoltech_optimization/my-keras-integration/runs/2gfgrmjp</a><br/>\n",
              "                Run data is saved locally in <code>/content/wandb/run-20210616_151635-2gfgrmjp</code><br/><br/>\n",
              "            "
            ],
            "text/plain": [
              "<IPython.core.display.HTML object>"
            ]
          },
          "metadata": {
            "tags": []
          }
        }
      ]
    },
    {
      "cell_type": "code",
      "metadata": {
        "hidden": true,
        "id": "GXZ0A0pzc3eD"
      },
      "source": [
        ""
      ],
      "execution_count": null,
      "outputs": []
    }
  ]
}